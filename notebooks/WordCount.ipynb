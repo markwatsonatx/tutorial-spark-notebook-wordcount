{
 "cells": [
  {
   "cell_type": "code",
   "execution_count": 13,
   "metadata": {
    "collapsed": true
   },
   "outputs": [],
   "source": [
    "input = sc.textFile(\"file:///usr/data/backtothefuture_transcript.txt\")"
   ]
  },
  {
   "cell_type": "code",
   "execution_count": 14,
   "metadata": {
    "collapsed": true
   },
   "outputs": [],
   "source": [
    "import re\n",
    "def normalizeWords(text):\n",
    "    text = re.compile(r'^[^:]+:', re.UNICODE).sub(\"\",text)\n",
    "    return re.compile(r'\\W+', re.UNICODE).split(text.lower())"
   ]
  },
  {
   "cell_type": "code",
   "execution_count": 15,
   "metadata": {
    "collapsed": false
   },
   "outputs": [],
   "source": [
    "words = input.flatMap(normalizeWords)"
   ]
  },
  {
   "cell_type": "code",
   "execution_count": 16,
   "metadata": {
    "collapsed": true
   },
   "outputs": [],
   "source": [
    "wordCounts = words.map(lambda x: (x, 1)).reduceByKey(lambda x, y: x + y)"
   ]
  },
  {
   "cell_type": "code",
   "execution_count": 17,
   "metadata": {
    "collapsed": false
   },
   "outputs": [],
   "source": [
    "wordCountsSorted = wordCounts.map(lambda xy: (xy[1], xy[0])).sortByKey(ascending=False)"
   ]
  },
  {
   "cell_type": "code",
   "execution_count": 12,
   "metadata": {
    "collapsed": false
   },
   "outputs": [
    {
     "data": {
      "text/plain": [
       "[(1755, ''),\n",
       " (452, 'you'),\n",
       " (353, 'i'),\n",
       " (338, 'marty'),\n",
       " (279, 'the'),\n",
       " (200, 's'),\n",
       " (193, 'doc'),\n",
       " (186, 'a'),\n",
       " (166, 'to'),\n",
       " (166, 'it'),\n",
       " (151, 'that'),\n",
       " (128, 't'),\n",
       " (111, 'george'),\n",
       " (110, 'of'),\n",
       " (100, 'in'),\n",
       " (100, 'this'),\n",
       " (97, 'your'),\n",
       " (92, 'what'),\n",
       " (90, 'is'),\n",
       " (90, 'me'),\n",
       " (87, 'my'),\n",
       " (84, 'and'),\n",
       " (76, 'no'),\n",
       " (76, 're'),\n",
       " (74, 'm'),\n",
       " (70, 'loraine'),\n",
       " (63, 'biff'),\n",
       " (60, 'don'),\n",
       " (60, 'for'),\n",
       " (58, 'know'),\n",
       " (56, 'with'),\n",
       " (55, 'gonna'),\n",
       " (51, 'on'),\n",
       " (50, 'be'),\n",
       " (48, 'do'),\n",
       " (48, 'are'),\n",
       " (48, 'he'),\n",
       " (48, 'well'),\n",
       " (47, 'now'),\n",
       " (46, 'we'),\n",
       " (46, 'hey'),\n",
       " (46, 'yeah'),\n",
       " (45, 'oh'),\n",
       " (44, 'all'),\n",
       " (43, 'time'),\n",
       " (42, 'out'),\n",
       " (42, 'just'),\n",
       " (42, 'have'),\n",
       " (42, 'uh'),\n",
       " (42, 'one'),\n",
       " (41, 'go'),\n",
       " (41, 'up'),\n",
       " (41, 'if'),\n",
       " (41, 'get'),\n",
       " (39, 'at'),\n",
       " (39, 'they'),\n",
       " (39, 'about'),\n",
       " (38, 'good'),\n",
       " (38, 'here'),\n",
       " (37, 'there'),\n",
       " (37, 'him'),\n",
       " (36, 'll'),\n",
       " (35, 'mcfly'),\n",
       " (35, 'so'),\n",
       " (34, 'look'),\n",
       " (33, 'right'),\n",
       " (32, 'okay'),\n",
       " (31, 'was'),\n",
       " (31, 'but'),\n",
       " (31, 'where'),\n",
       " (31, 'alright'),\n",
       " (31, 'not'),\n",
       " (31, 'car'),\n",
       " (30, 'let'),\n",
       " (29, 'got'),\n",
       " (29, 'like'),\n",
       " (29, 'think'),\n",
       " (29, 'could'),\n",
       " (29, 'she'),\n",
       " (28, 've'),\n",
       " (28, 'lorraine'),\n",
       " (27, 'jennifer'),\n",
       " (27, 'how'),\n",
       " (26, 'her'),\n",
       " (26, 'future'),\n",
       " (24, 'never'),\n",
       " (24, 'who'),\n",
       " (23, 'c'),\n",
       " (23, 'mon'),\n",
       " (23, 'can'),\n",
       " (22, 'why'),\n",
       " (22, 'see'),\n",
       " (22, 'back'),\n",
       " (21, 'gotta'),\n",
       " (21, 'take'),\n",
       " (21, 'dance'),\n",
       " (20, 'when'),\n",
       " (20, 'from'),\n",
       " (19, 'been'),\n",
       " (18, 'kid')]"
      ]
     },
     "execution_count": 12,
     "metadata": {},
     "output_type": "execute_result"
    }
   ],
   "source": [
    "import numpy as np\n",
    "import matplotlib.pyplot as plt\n",
    "top10Words = wordCountsSorted.take(100)\n",
    "top10Words\n",
    "#plt.bar(top10Words.keys(), top10Words.values(), width, color='g')"
   ]
  },
  {
   "cell_type": "code",
   "execution_count": null,
   "metadata": {
    "collapsed": true
   },
   "outputs": [],
   "source": []
  }
 ],
 "metadata": {
  "kernelspec": {
   "display_name": "Python 3",
   "language": "python",
   "name": "python3"
  },
  "language_info": {
   "codemirror_mode": {
    "name": "ipython",
    "version": 3
   },
   "file_extension": ".py",
   "mimetype": "text/x-python",
   "name": "python",
   "nbconvert_exporter": "python",
   "pygments_lexer": "ipython3",
   "version": "3.5.1"
  }
 },
 "nbformat": 4,
 "nbformat_minor": 0
}
