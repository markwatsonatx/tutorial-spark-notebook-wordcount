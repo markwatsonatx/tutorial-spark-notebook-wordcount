{
 "cells": [
  {
   "cell_type": "code",
   "execution_count": 44,
   "metadata": {
    "collapsed": true
   },
   "outputs": [],
   "source": [
    "input = sc.textFile(\"file:///usr/data/backtothefuture_transcript.txt\")"
   ]
  },
  {
   "cell_type": "code",
   "execution_count": 45,
   "metadata": {
    "collapsed": true
   },
   "outputs": [],
   "source": [
    "import re\n",
    "def normalizeWords(text):\n",
    "    # Strip out the character who says the line (i.e. \"Marty:\")\n",
    "    text = re.compile(r'^[^:]+:', re.UNICODE).sub(\"\",text)\n",
    "    return re.compile(r'\\s+', re.UNICODE).split(text.lower())"
   ]
  },
  {
   "cell_type": "code",
   "execution_count": 46,
   "metadata": {
    "collapsed": false
   },
   "outputs": [],
   "source": [
    "words = input.flatMap(normalizeWords)"
   ]
  },
  {
   "cell_type": "code",
   "execution_count": 47,
   "metadata": {
    "collapsed": true
   },
   "outputs": [],
   "source": [
    "wordCounts = words.map(lambda x: (x, 1)).reduceByKey(lambda x, y: x + y)"
   ]
  },
  {
   "cell_type": "code",
   "execution_count": 48,
   "metadata": {
    "collapsed": false
   },
   "outputs": [],
   "source": [
    "wordCountsSorted = wordCounts.map(lambda xy: (xy[1], xy[0])).sortByKey(ascending=False)"
   ]
  },
  {
   "cell_type": "code",
   "execution_count": 49,
   "metadata": {
    "collapsed": false
   },
   "outputs": [
    {
     "data": {
      "text/plain": [
       "[(1679, ''),\n",
       " (323, 'you'),\n",
       " (278, 'the'),\n",
       " (240, 'i'),\n",
       " (178, 'a'),\n",
       " (165, 'to'),\n",
       " (106, 'that'),\n",
       " (103, 'of'),\n",
       " (99, 'in'),\n",
       " (96, 'your'),\n",
       " (87, 'my'),\n",
       " (86, 'is'),\n",
       " (83, 'this'),\n",
       " (81, 'and'),\n",
       " (67, \"i'm\"),\n",
       " (65, 'it'),\n",
       " (64, 'what'),\n",
       " (60, \"don't\"),\n",
       " (58, 'for'),\n",
       " (56, 'with'),\n",
       " (55, 'gonna'),\n",
       " (54, \"you're\"),\n",
       " (48, 'me'),\n",
       " (47, 'are'),\n",
       " (46, 'be'),\n",
       " (44, 'on'),\n",
       " (44, \"it's\"),\n",
       " (44, 'do'),\n",
       " (44, 'know'),\n",
       " (42, 'have'),\n",
       " (41, 'just'),\n",
       " (41, 'if'),\n",
       " (40, 'marty,'),\n",
       " (39, 'get'),\n",
       " (38, 'about'),\n",
       " (37, 'all'),\n",
       " (36, 'no'),\n",
       " (35, 'out'),\n",
       " (35, 'uh,'),\n",
       " (34, \"that's\"),\n",
       " (33, 'at'),\n",
       " (33, 'doc,'),\n",
       " (32, 'it.'),\n",
       " (31, 'so'),\n",
       " (31, 'well,'),\n",
       " (31, 'we'),\n",
       " (31, 'no,'),\n",
       " (30, 'up'),\n",
       " (29, 'was'),\n",
       " (29, 'got'),\n",
       " (29, 'they'),\n",
       " (29, 'but'),\n",
       " (29, 'like'),\n",
       " (28, 'could'),\n",
       " (28, 'one'),\n",
       " (27, 'not'),\n",
       " (27, 'yeah,'),\n",
       " (27, \"i'll\"),\n",
       " (26, 'how'),\n",
       " (25, 'oh,'),\n",
       " (25, 'hey'),\n",
       " (25, 'time'),\n",
       " (24, \"he's\"),\n",
       " (24, 'you.'),\n",
       " (24, 'look'),\n",
       " (24, 'think'),\n",
       " (24, 'me.'),\n",
       " (23, 'now,'),\n",
       " (23, 'him'),\n",
       " (23, 'where'),\n",
       " (23, 'he'),\n",
       " (23, 'never'),\n",
       " (21, 'take'),\n",
       " (21, 'gotta'),\n",
       " (20, 'why'),\n",
       " (20, 'you,'),\n",
       " (20, 'go'),\n",
       " (20, 'george,'),\n",
       " (20, 'when'),\n",
       " (19, 'she'),\n",
       " (19, 'hey,'),\n",
       " (19, 'been'),\n",
       " (19, 'good'),\n",
       " (19, 'doc.'),\n",
       " (19, 'back'),\n",
       " (19, 'alright,'),\n",
       " (19, 'biff,'),\n",
       " (18, 'did'),\n",
       " (18, 'marty.'),\n",
       " (18, 'it,'),\n",
       " (18, 'see'),\n",
       " (17, 'now'),\n",
       " (17, 'from'),\n",
       " (17, 'mcfly,'),\n",
       " (17, 'tell'),\n",
       " (17, 'well'),\n",
       " (16, 'her'),\n",
       " (16, \"can't\"),\n",
       " (15, 'ever'),\n",
       " (15, 'let')]"
      ]
     },
     "execution_count": 49,
     "metadata": {},
     "output_type": "execute_result"
    }
   ],
   "source": [
    "import numpy as np\n",
    "import matplotlib.pyplot as plt\n",
    "top10Words = wordCountsSorted.take(100)\n",
    "top10Words\n",
    "#plt.bar(top10Words.keys(), top10Words.values(), width, color='g')"
   ]
  },
  {
   "cell_type": "code",
   "execution_count": 63,
   "metadata": {
    "collapsed": false
   },
   "outputs": [],
   "source": [
    "# Get the entire contents of the file, so we can group words by character\n",
    "contents = sc.wholeTextFiles(\"file:///usr/data/backtothefuture_transcript.txt\")"
   ]
  },
  {
   "cell_type": "code",
   "execution_count": 79,
   "metadata": {
    "collapsed": true
   },
   "outputs": [],
   "source": [
    "def normalizeContents(text):\n",
    "    return re.compile(r'(^[a-z^:]+:)', re.UNICODE|re.MULTILINE).split(text[1].lower())"
   ]
  },
  {
   "cell_type": "code",
   "execution_count": 80,
   "metadata": {
    "collapsed": false
   },
   "outputs": [],
   "source": [
    "characterWordCounts = contents.flatMap(normalizeContents)"
   ]
  },
  {
   "cell_type": "code",
   "execution_count": 81,
   "metadata": {
    "collapsed": false
   },
   "outputs": [
    {
     "data": {
      "text/plain": [
       "['back to the future\\n\\nproduced by bob gale & neil canton\\n\\nscreenplay by robert zemeckis & bob gale\\n\\ndirected by robert zemeckis\\n\\ntranscribed by eric dienstfrey\\n\\n',\n",
       " 'radio:',\n",
       " \" october is inventory time. so right now, statler toyota is making\\nthe best deals of the year on all 1985 model toyotas. you won't find a\\nbetter car with a better price with better service anywhere in hill\\nvalley...\\n\\n\",\n",
       " 'television:',\n",
       " ' the senate is expected to vote on this today. in other news,\\nofficials at the pacific\\n\\nnuclear research facility have denied the rumor that the case of missing\\nplutonium was in fact stolen from their vault two weeks ago. a libyan\\nterrorist group had claimed responsibility for the alleged theft,\\nhowever, the officials now infer the crepency to a simple clerical\\nerror. the\\n\\nfbi...\\n\\n',\n",
       " 'marty:',\n",
       " \" hey, doc? doc. hello, anybody home? einstein, come here, boy.\\nwhat's going on?\\n\\nwha- aw, god. aw, jesus. whoa, rock and roll. yo\\n\\n\",\n",
       " 'doc:',\n",
       " ' marty, is that you?\\n\\n',\n",
       " 'marty:',\n",
       " ' hey, hey, doc, where are you?\\n\\n',\n",
       " 'doc:',\n",
       " \" thank god i found you. listen, can you meet me at twin pines mall\\ntonight at 1:15? i've made a major breakthrough, i'll need your\\nassistance.\\n\\n\",\n",
       " 'marty:',\n",
       " ' wait a minute, wait a minute. 1:15 in the morning?\\n\\n',\n",
       " 'doc:',\n",
       " ' yeah.\\n\\n',\n",
       " 'marty:',\n",
       " \" what's going on? where have you been all week?\\n\\n\",\n",
       " 'doc:',\n",
       " ' working.\\n\\n',\n",
       " 'marty:',\n",
       " \" where's einstein, is he with you?\\n\\n\",\n",
       " 'doc:',\n",
       " \" yeah, he's right here.\\n\\n\",\n",
       " 'marty:',\n",
       " ' you know, doc, you left your equipment on all week.\\n\\n',\n",
       " 'doc:',\n",
       " \" my equipment, that reminds me, marty, you better not hook up to the\\namplifier. there's a slight possibility for overload.\\n\\n\",\n",
       " 'marty:',\n",
       " \" yeah, i'll keep that in mind.\\n\\n\",\n",
       " 'doc:',\n",
       " \" good, i'll see you tonight. don't forget, now, 1:15 a.m., twin\\npines mall.\\n\\n\",\n",
       " 'marty:',\n",
       " ' right.\\n\\n',\n",
       " 'doc:',\n",
       " ' are those my clocks i hear?\\n\\n',\n",
       " 'marty:',\n",
       " \" yeah, it's 8:00.\\n\\n\",\n",
       " 'doc:',\n",
       " \" they're late. my experiment worked. they're all exactly twenty-five\\nminutes slow.\\n\\n\",\n",
       " 'marty:',\n",
       " \" wait a minute. wait a minute, doc. are you telling me that it's\\n8:25?\\n\\n\",\n",
       " 'doc:',\n",
       " ' precisely.\\n\\n',\n",
       " 'marty:',\n",
       " \" damn. i'm late for school.\\n\\n\",\n",
       " 'marty:',\n",
       " ' hello, jennifer.\\n\\n',\n",
       " 'jennifer:',\n",
       " \" marty, don't go this way. strickland's looking for you. if\\nyou're caught it'll be four tardies in a row.\\n\\n\",\n",
       " 'jennifer:',\n",
       " \" alright, c'mon, i think we're safe.\\n\\n\",\n",
       " 'marty:',\n",
       " \" y'know this time it wasn't my fault. the doc set all of his\\nclocks twenty-five minutes slow.\\n\\n\",\n",
       " 'strickland:',\n",
       " \" doc? am i to understand you're still hanging around with\\ndoctor emmett brown, mcfly? tardy slip for you, miss parker. and one for\\nyou mcfly i believe that makes four in a row. now let me give you a\\nnickle's worth of advice, young man. this so called doctor brown is\\ndangerous, he's a real nuttcase. you hang around with him you're gonna\\nend up in big trouble.\\n\\n\",\n",
       " 'marty:',\n",
       " ' oh yes sir.\\n\\n',\n",
       " 'strickland:',\n",
       " \" you got a real attitude problem, mcfly. you're a slacker.\\nyou remind me of you father when he went her, he was a slacker too.\\n\\n\",\n",
       " 'marty:',\n",
       " ' can i go now, mr. strickland?\\n\\n',\n",
       " 'strickland:',\n",
       " \" i noticed you band is on the roster for dance auditions\\nafter school today. why even bother mcfly, you haven't got a chance,\\nyou're too much like your own man. no mcfly ever amounted to anything in\\nthe history of hill valley.\\n\\n\",\n",
       " 'marty:',\n",
       " ' yeah, well history is gonna change.\\n\\naudition judge: next, please.\\n\\n',\n",
       " 'marty:',\n",
       " \" alright, we're the pinheads.\\n\\naudition judge: okay, that's enough. now stop the microphone. i'm sorry\\nfellas. i'm afraid you're just too darn loud. next, please. where's the\\nnext group, please.\\n\\nelection van: re-elect mayor goldie wilson. progress is his middle name.\\n\\n\",\n",
       " 'marty:',\n",
       " \" i'm too loud. i can't believe it. i'm never gonna get a chance to\\nplay in front of anybody.\\n\\n\",\n",
       " 'jennifer:',\n",
       " \" marty, one rejection isn't the end of the world.\\n\\n\",\n",
       " 'marty:',\n",
       " \" nah, i just don't think i'm cut out for music.\\n\\n\",\n",
       " 'jennifer:',\n",
       " \" but you're good, marty, you're really good. and this audition\\ntape of your is great, you gotta send it in to the record company. it's\\nlike doc's always saying.\\n\\n\",\n",
       " 'marty:',\n",
       " ' yeah i know, if you put your mind to it you could accomplish\\nanything.\\n\\n',\n",
       " 'jennifer:',\n",
       " \" that's good advice, marty.\\n\\n\",\n",
       " 'marty:',\n",
       " ' alright, okay jennifer. what if i send in the tape and they don\\'t\\nlike it. i mean, what if they say i\\'m no good. what if they say, \"get\\nout of here, kid, you got no future.\" i mean, i just don\\'t think i can\\ntake that kind of rejection. jesus, i\\'m beginning to sound like my old\\nman.\\n\\n',\n",
       " 'jennifer:',\n",
       " \" c'mon, he's not that bad. at least he's letting you borrow the\\ncar tomorrow night.\\n\\n\",\n",
       " 'marty:',\n",
       " \" check out that four by four. that is hot. someday, jennifer,\\nsomeday. wouldn't it be great to take that truck up to the lake. throw a\\ncouple of sleeping bags in the back. lie out under the stars.\\n\\n\",\n",
       " 'jennifer:',\n",
       " ' stop it.\\n\\n',\n",
       " 'marty:',\n",
       " ' what?\\n\\n',\n",
       " 'jennifer:',\n",
       " ' does your mom know about tomorrow night?\\n\\n',\n",
       " 'marty:',\n",
       " \" no, get out of town, my mom thinks i'm going camping with the\\nguys. well, jennifer, my mother would freak out if she knew i was going\\nup there with you. and i get this standard lecture about how she never\\ndid that kind of stuff when she was a kid. now look, i think she was\\nborn a nun.\\n\\n\",\n",
       " 'jennifer:',\n",
       " \" she's just trying to keep you respectable.\\n\\n\",\n",
       " 'marty:',\n",
       " \" well, she's not doing a very good job.\\n\\n\",\n",
       " 'woman:']"
      ]
     },
     "execution_count": 81,
     "metadata": {},
     "output_type": "execute_result"
    }
   ],
   "source": [
    "characterWordCounts.collect()\n",
    "characterWordCounts.take(100)"
   ]
  },
  {
   "cell_type": "code",
   "execution_count": null,
   "metadata": {
    "collapsed": true
   },
   "outputs": [],
   "source": []
  }
 ],
 "metadata": {
  "kernelspec": {
   "display_name": "Python 3",
   "language": "python",
   "name": "python3"
  },
  "language_info": {
   "codemirror_mode": {
    "name": "ipython",
    "version": 3
   },
   "file_extension": ".py",
   "mimetype": "text/x-python",
   "name": "python",
   "nbconvert_exporter": "python",
   "pygments_lexer": "ipython3",
   "version": "3.5.1"
  }
 },
 "nbformat": 4,
 "nbformat_minor": 0
}
